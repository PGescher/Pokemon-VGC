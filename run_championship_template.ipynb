{
 "cells": [
  {
   "cell_type": "code",
   "metadata": {
    "ExecuteTime": {
     "end_time": "2025-06-08T16:39:58.032726Z",
     "start_time": "2025-06-08T16:39:57.754651Z"
    }
   },
   "source": [
    "from vgc2.competition.ecosystem import *\n",
    "from vgc2.meta import BasicMeta\n",
    "from vgc2.util.generator import *\n",
    "\n",
    "\n",
    "####################################\n",
    "# TODO: Replace these two imports with your Competitor \n",
    "# and the opponents (for example the random bot or the greedy bot)\n",
    "####################################\n",
    "\n",
    "#from benchmarks.PikachuSubmission.pikachuCompetitor import PikachuCompetitor\n",
    "#from benchmarks.MiloticSubmission.miloticCompetitor import MiloticCompetitor\n",
    "\n",
    "from BlackSwan.competitor import BlackSwanCompetitor\n",
    "from TemplateCompetitor.my_competitor import MyCompetitor\n"
   ],
   "outputs": [],
   "execution_count": 1
  },
  {
   "cell_type": "code",
   "metadata": {
    "ExecuteTime": {
     "end_time": "2025-06-08T16:39:58.913776Z",
     "start_time": "2025-06-08T16:39:58.819349Z"
    }
   },
   "source": [
    "# Generate Move Set, and with that, generate Pokemon roster \n",
    "# and create instance of the Championship\n",
    "\n",
    "move_set = gen_move_set(100)\n",
    "roster = gen_pkm_roster(100, move_set)\n",
    "label_roster(move_set, roster)\n",
    "meta = BasicMeta(move_set, roster)\n",
    "championship = Championship(roster=roster, meta=meta, epochs=20)\n"
   ],
   "outputs": [],
   "execution_count": 2
  },
  {
   "cell_type": "code",
   "metadata": {
    "ExecuteTime": {
     "end_time": "2025-06-08T16:39:59.214459Z",
     "start_time": "2025-06-08T16:39:59.195806Z"
    }
   },
   "source": [
    "####################################\n",
    "# TODO: Replace Competitors in the list with your Competitor classes\n",
    "####################################\n",
    "\n",
    "competitors_list = [\n",
    "    # YourCompetitor(),\n",
    "    # RandomCompetitor(),\n",
    "    # ...\n",
    "    #PikachuCompetitor(),\n",
    "    #MiloticCompetitor()\n",
    "    MyCompetitor(),\n",
    "    BlackSwanCompetitor()\n",
    "    ]"
   ],
   "outputs": [],
   "execution_count": 3
  },
  {
   "metadata": {
    "ExecuteTime": {
     "end_time": "2025-06-08T16:40:00.061082Z",
     "start_time": "2025-06-08T16:40:00.030682Z"
    }
   },
   "cell_type": "code",
   "source": "BlackSwanCompetitor().name",
   "outputs": [
    {
     "data": {
      "text/plain": [
       "'BlackSwan'"
      ]
     },
     "execution_count": 4,
     "metadata": {},
     "output_type": "execute_result"
    }
   ],
   "execution_count": 4
  },
  {
   "cell_type": "code",
   "metadata": {
    "ExecuteTime": {
     "end_time": "2025-06-08T16:40:00.810557Z",
     "start_time": "2025-06-08T16:40:00.797467Z"
    }
   },
   "source": [
    "# register the competitors from the competitor list to the championship\n",
    "for i in range(len(competitors_list)):\n",
    "    competitor_manager = CompetitorManager(competitors_list[i])\n",
    "    championship.register(competitor_manager)"
   ],
   "outputs": [],
   "execution_count": 5
  },
  {
   "cell_type": "code",
   "metadata": {
    "ExecuteTime": {
     "end_time": "2025-06-08T16:40:01.351559Z",
     "start_time": "2025-06-08T16:40:01.341665Z"
    }
   },
   "source": [
    "# Some Helpful Output:\n",
    "# Access Name and Elo of first competitor in list\n",
    "print(championship.cm[0].competitor.name)\n",
    "print(championship.cm[0].elo)\n",
    "# Access the Moves and the roster\n",
    "print(move_set[0])\n",
    "print(roster[0])"
   ],
   "outputs": [
    {
     "name": "stdout",
     "output_type": "stream",
     "text": [
      "Template\n",
      "1200\n",
      "WATER, Power 83, Max PP 10, PHYSICAL, Priority 1, Probability 0.41, Protect\n",
      "Base Stats (140, 130, 109, 25, 140, 137), Types ['ICE'], Moves ['PSYCHIC, Max PP 6, OTHER, Protect', 'GHOST, Max PP 10, OTHER, Change Type', 'FAIRY, Max PP 5, OTHER, Self Switch', 'GHOST, Accuracy 0.87, Max PP 8, OTHER, Priority 1, Self Boosts (0, -1, 0, 0, 0, 0, 0, -1)']\n"
     ]
    }
   ],
   "execution_count": 6
  },
  {
   "cell_type": "code",
   "metadata": {
    "ExecuteTime": {
     "end_time": "2025-06-08T16:40:04.042275Z",
     "start_time": "2025-06-08T16:40:02.185317Z"
    }
   },
   "source": [
    "# runs the championship based on ELO rating\n",
    "championship.run()"
   ],
   "outputs": [],
   "execution_count": 7
  },
  {
   "cell_type": "code",
   "metadata": {
    "ExecuteTime": {
     "end_time": "2025-06-08T16:40:04.692918Z",
     "start_time": "2025-06-08T16:40:04.679979Z"
    }
   },
   "source": [
    "# Print the ranking\n",
    "ranking = championship.ranking()\n",
    "winner = ranking[0]\n",
    "\n",
    "for i in range(len(championship.ranking())):\n",
    "    print(f\"{i + 1}. Place: Competitor: {championship.ranking()[i].competitor.name} with Elo: {championship.ranking()[i].elo}\")\n"
   ],
   "outputs": [
    {
     "name": "stdout",
     "output_type": "stream",
     "text": [
      "1. Place: Competitor: BlackSwan with Elo: 1249.694063704448\n",
      "2. Place: Competitor: Template with Elo: 1150.305936295552\n"
     ]
    }
   ],
   "execution_count": 8
  },
  {
   "metadata": {
    "ExecuteTime": {
     "end_time": "2025-06-08T16:36:35.312397Z",
     "start_time": "2025-06-08T16:36:35.298678Z"
    }
   },
   "cell_type": "code",
   "source": "",
   "outputs": [],
   "execution_count": null
  }
 ],
 "metadata": {
  "kernelspec": {
   "display_name": "venv",
   "language": "python",
   "name": "python3"
  },
  "language_info": {
   "codemirror_mode": {
    "name": "ipython",
    "version": 3
   },
   "file_extension": ".py",
   "mimetype": "text/x-python",
   "name": "python",
   "nbconvert_exporter": "python",
   "pygments_lexer": "ipython3",
   "version": "3.13.1"
  }
 },
 "nbformat": 4,
 "nbformat_minor": 2
}
