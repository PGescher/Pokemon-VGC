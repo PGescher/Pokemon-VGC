{
 "cells": [
  {
   "cell_type": "code",
   "metadata": {
    "ExecuteTime": {
     "end_time": "2025-06-08T18:04:30.765748Z",
     "start_time": "2025-06-08T18:04:30.749596Z"
    }
   },
   "source": [
    "from vgc2.competition.ecosystem import *\n",
    "from vgc2.meta import BasicMeta\n",
    "from vgc2.util.generator import *\n",
    "\n",
    "\n",
    "####################################\n",
    "# TODO: Replace these two imports with your Competitor \n",
    "# and the opponents (for example the random bot or the greedy bot)\n",
    "####################################\n",
    "\n",
    "#from benchmarks.PikachuSubmission.pikachuCompetitor import PikachuCompetitor\n",
    "#from benchmarks.MiloticSubmission.miloticCompetitor import MiloticCompetitor\n",
    "\n",
    "from BlackSwan.competitor import BlackSwanCompetitor\n",
    "from TemplateCompetitor.my_competitor import MyCompetitor\n"
   ],
   "outputs": [],
   "execution_count": 3
  },
  {
   "cell_type": "code",
   "metadata": {
    "ExecuteTime": {
     "end_time": "2025-06-08T21:24:12.342069Z",
     "start_time": "2025-06-08T21:24:12.329917Z"
    }
   },
   "source": [
    "# Generate Move Set, and with that, generate Pokemon roster \n",
    "# and create instance of the Championship\n",
    "\n",
    "move_set = gen_move_set(10)\n",
    "roster = gen_pkm_roster(10, move_set)\n",
    "label_roster(move_set, roster)\n",
    "meta = BasicMeta(move_set, roster)\n",
    "championship = Championship(roster=roster, meta=meta, epochs=1)\n"
   ],
   "outputs": [],
   "execution_count": 23
  },
  {
   "cell_type": "code",
   "metadata": {
    "ExecuteTime": {
     "end_time": "2025-06-08T21:24:12.867751Z",
     "start_time": "2025-06-08T21:24:12.861917Z"
    }
   },
   "source": [
    "####################################\n",
    "# TODO: Replace Competitors in the list with your Competitor classes\n",
    "####################################\n",
    "\n",
    "competitors_list = [\n",
    "    # YourCompetitor(),\n",
    "    # RandomCompetitor(),\n",
    "    # ...\n",
    "    #PikachuCompetitor(),\n",
    "    #MiloticCompetitor()\n",
    "    MyCompetitor(),\n",
    "    BlackSwanCompetitor()\n",
    "    ]"
   ],
   "outputs": [],
   "execution_count": 24
  },
  {
   "metadata": {
    "ExecuteTime": {
     "end_time": "2025-06-08T21:24:13.401916Z",
     "start_time": "2025-06-08T21:24:13.393530Z"
    }
   },
   "cell_type": "code",
   "source": "BlackSwanCompetitor().name",
   "outputs": [
    {
     "data": {
      "text/plain": [
       "'BlackSwan'"
      ]
     },
     "execution_count": 25,
     "metadata": {},
     "output_type": "execute_result"
    }
   ],
   "execution_count": 25
  },
  {
   "cell_type": "code",
   "metadata": {
    "ExecuteTime": {
     "end_time": "2025-06-08T21:24:13.937380Z",
     "start_time": "2025-06-08T21:24:13.931583Z"
    }
   },
   "source": [
    "# register the competitors from the competitor list to the championship\n",
    "for i in range(len(competitors_list)):\n",
    "    competitor_manager = CompetitorManager(competitors_list[i])\n",
    "    championship.register(competitor_manager)"
   ],
   "outputs": [],
   "execution_count": 26
  },
  {
   "cell_type": "code",
   "metadata": {
    "ExecuteTime": {
     "end_time": "2025-06-08T21:24:14.455837Z",
     "start_time": "2025-06-08T21:24:14.447319Z"
    }
   },
   "source": [
    "# Some Helpful Output:\n",
    "# Access Name and Elo of first competitor in list\n",
    "print(championship.cm[0].competitor.name)\n",
    "print(championship.cm[0].elo)\n",
    "# Access the Moves and the roster\n",
    "print(\"Printing Move_sets:\")\n",
    "for move in move_set:\n",
    "    print(move)\n",
    "print(\"Printing Roster:\")\n",
    "for pokemon in roster:\n",
    "    print(pokemon)\n",
    "#print(roster[0])"
   ],
   "outputs": [
    {
     "name": "stdout",
     "output_type": "stream",
     "text": [
      "Example\n",
      "1200\n",
      "Printing Move_sets:\n",
      "ICE, Accuracy 0.79, Max PP 14, OTHER, Reflect\n",
      "WATER, Power 129, Accuracy 0.93, Max PP 8, SPECIAL, Priority 1, Probability 0.08, ELECTRIC_TERRAIN\n",
      "NORMAL, Max PP 10, OTHER, Trickroom\n",
      "DARK, Power 140, Max PP 9, SPECIAL\n",
      "ROCK, Max PP 11, PHYSICAL, SNOW\n",
      "PSYCHIC, Power 140, Accuracy 0.78, Max PP 9, SPECIAL, Priority 1\n",
      "DRAGON, Power 7, Max PP 11, SPECIAL, Priority 1, Probability 0.95, Recoil 0.24\n",
      "ELECTRIC, Power 60, Accuracy 0.97, Max PP 13, SPECIAL, Probability 0.57, Trickroom\n",
      "GRASS, Power 48, Max PP 10, PHYSICAL, Priority 1, Probability 0.66, SAND\n",
      "GHOST, Power 136, Accuracy 0.87, Max PP 11, SPECIAL, Priority 1, Probability 0.03, Force Switch\n",
      "Printing Roster:\n",
      "Base Stats (160, 92, 140, 140, 122, 140), Types ['BUG'], Moves ['PSYCHIC, Power 140, Accuracy 0.78, Max PP 9, SPECIAL, Priority 1', 'ICE, Accuracy 0.79, Max PP 14, OTHER, Reflect', 'DARK, Power 140, Max PP 9, SPECIAL', 'DRAGON, Power 7, Max PP 11, SPECIAL, Priority 1, Probability 0.95, Recoil 0.24']\n",
      "Base Stats (133, 50, 113, 18, 116, 140), Types ['GHOST', 'DARK'], Moves ['WATER, Power 129, Accuracy 0.93, Max PP 8, SPECIAL, Priority 1, Probability 0.08, ELECTRIC_TERRAIN', 'PSYCHIC, Power 140, Accuracy 0.78, Max PP 9, SPECIAL, Priority 1', 'NORMAL, Max PP 10, OTHER, Trickroom', 'ELECTRIC, Power 60, Accuracy 0.97, Max PP 13, SPECIAL, Probability 0.57, Trickroom']\n",
      "Base Stats (107, 102, 61, 46, 107, 54), Types ['PSYCHIC'], Moves ['NORMAL, Max PP 10, OTHER, Trickroom', 'PSYCHIC, Power 140, Accuracy 0.78, Max PP 9, SPECIAL, Priority 1', 'WATER, Power 129, Accuracy 0.93, Max PP 8, SPECIAL, Priority 1, Probability 0.08, ELECTRIC_TERRAIN', 'ROCK, Max PP 11, PHYSICAL, SNOW']\n",
      "Base Stats (122, 73, 86, 100, 72, 140), Types ['ICE'], Moves ['DRAGON, Power 7, Max PP 11, SPECIAL, Priority 1, Probability 0.95, Recoil 0.24', 'NORMAL, Max PP 10, OTHER, Trickroom', 'ICE, Accuracy 0.79, Max PP 14, OTHER, Reflect', 'GHOST, Power 136, Accuracy 0.87, Max PP 11, SPECIAL, Priority 1, Probability 0.03, Force Switch']\n",
      "Base Stats (147, 92, 53, 120, 140, 76), Types ['GHOST', 'GROUND'], Moves ['ELECTRIC, Power 60, Accuracy 0.97, Max PP 13, SPECIAL, Probability 0.57, Trickroom', 'PSYCHIC, Power 140, Accuracy 0.78, Max PP 9, SPECIAL, Priority 1', 'DARK, Power 140, Max PP 9, SPECIAL', 'ICE, Accuracy 0.79, Max PP 14, OTHER, Reflect']\n",
      "Base Stats (95, 90, 91, 124, 47, 103), Types ['WATER', 'BUG'], Moves ['DARK, Power 140, Max PP 9, SPECIAL', 'NORMAL, Max PP 10, OTHER, Trickroom', 'DRAGON, Power 7, Max PP 11, SPECIAL, Priority 1, Probability 0.95, Recoil 0.24', 'GRASS, Power 48, Max PP 10, PHYSICAL, Priority 1, Probability 0.66, SAND']\n",
      "Base Stats (116, 62, 83, 97, 102, 140), Types ['FIGHT'], Moves ['ELECTRIC, Power 60, Accuracy 0.97, Max PP 13, SPECIAL, Probability 0.57, Trickroom', 'DRAGON, Power 7, Max PP 11, SPECIAL, Priority 1, Probability 0.95, Recoil 0.24', 'DARK, Power 140, Max PP 9, SPECIAL', 'ICE, Accuracy 0.79, Max PP 14, OTHER, Reflect']\n",
      "Base Stats (95, 85, 82, 80, 81, 76), Types ['NORMAL'], Moves ['WATER, Power 129, Accuracy 0.93, Max PP 8, SPECIAL, Priority 1, Probability 0.08, ELECTRIC_TERRAIN', 'NORMAL, Max PP 10, OTHER, Trickroom', 'GHOST, Power 136, Accuracy 0.87, Max PP 11, SPECIAL, Priority 1, Probability 0.03, Force Switch', 'ELECTRIC, Power 60, Accuracy 0.97, Max PP 13, SPECIAL, Probability 0.57, Trickroom']\n",
      "Base Stats (91, 94, 107, 127, 102, 86), Types ['STEEL'], Moves ['PSYCHIC, Power 140, Accuracy 0.78, Max PP 9, SPECIAL, Priority 1', 'GHOST, Power 136, Accuracy 0.87, Max PP 11, SPECIAL, Priority 1, Probability 0.03, Force Switch', 'ROCK, Max PP 11, PHYSICAL, SNOW', 'WATER, Power 129, Accuracy 0.93, Max PP 8, SPECIAL, Priority 1, Probability 0.08, ELECTRIC_TERRAIN']\n",
      "Base Stats (138, 130, 102, 79, 140, 134), Types ['FAIRY', 'FLYING'], Moves ['NORMAL, Max PP 10, OTHER, Trickroom', 'PSYCHIC, Power 140, Accuracy 0.78, Max PP 9, SPECIAL, Priority 1', 'ICE, Accuracy 0.79, Max PP 14, OTHER, Reflect', 'WATER, Power 129, Accuracy 0.93, Max PP 8, SPECIAL, Priority 1, Probability 0.08, ELECTRIC_TERRAIN']\n"
     ]
    }
   ],
   "execution_count": 27
  },
  {
   "cell_type": "code",
   "metadata": {
    "ExecuteTime": {
     "end_time": "2025-06-08T21:24:15.112236Z",
     "start_time": "2025-06-08T21:24:15.078630Z"
    }
   },
   "source": [
    "# runs the championship based on ELO rating\n",
    "championship.run()"
   ],
   "outputs": [
    {
     "name": "stdout",
     "output_type": "stream",
     "text": [
      "ivs: (31, 31, 31, 31, 31, 31)\n",
      "ids: [4 9 2]\n",
      "n_moves: 4\n",
      "moves: [np.int32(0), np.int32(3), np.int32(2), np.int32(1)]\n",
      "evs: (np.int32(88), np.int32(74), np.int32(88), np.int32(86), np.int32(83), np.int32(91))\n",
      "nature: 13\n",
      "cmds: [(0, (np.int32(88), np.int32(74), np.int32(88), np.int32(86), np.int32(83), np.int32(91)), (31, 31, 31, 31, 31, 31), <Nature.JOLLY: 13>, [np.int32(0), np.int32(3), np.int32(2), np.int32(1)])]\n",
      "n_moves: 4\n",
      "moves: [np.int32(1), np.int32(2), np.int32(3), np.int32(0)]\n",
      "evs: (np.int32(71), np.int32(90), np.int32(81), np.int32(85), np.int32(88), np.int32(95))\n",
      "nature: 7\n",
      "cmds: [(0, (np.int32(88), np.int32(74), np.int32(88), np.int32(86), np.int32(83), np.int32(91)), (31, 31, 31, 31, 31, 31), <Nature.JOLLY: 13>, [np.int32(0), np.int32(3), np.int32(2), np.int32(1)]), (1, (np.int32(71), np.int32(90), np.int32(81), np.int32(85), np.int32(88), np.int32(95)), (31, 31, 31, 31, 31, 31), <Nature.RELAXED: 7>, [np.int32(1), np.int32(2), np.int32(3), np.int32(0)])]\n",
      "n_moves: 4\n",
      "moves: [np.int32(1), np.int32(2), np.int32(0), np.int32(3)]\n",
      "evs: (np.int32(78), np.int32(84), np.int32(82), np.int32(88), np.int32(100), np.int32(78))\n",
      "nature: 0\n",
      "cmds: [(0, (np.int32(88), np.int32(74), np.int32(88), np.int32(86), np.int32(83), np.int32(91)), (31, 31, 31, 31, 31, 31), <Nature.JOLLY: 13>, [np.int32(0), np.int32(3), np.int32(2), np.int32(1)]), (1, (np.int32(71), np.int32(90), np.int32(81), np.int32(85), np.int32(88), np.int32(95)), (31, 31, 31, 31, 31, 31), <Nature.RELAXED: 7>, [np.int32(1), np.int32(2), np.int32(3), np.int32(0)]), (2, (np.int32(78), np.int32(84), np.int32(82), np.int32(88), np.int32(100), np.int32(78)), (31, 31, 31, 31, 31, 31), <Nature.HARDY: 0>, [np.int32(1), np.int32(2), np.int32(0), np.int32(3)])]\n"
     ]
    }
   ],
   "execution_count": 28
  },
  {
   "cell_type": "code",
   "metadata": {
    "ExecuteTime": {
     "end_time": "2025-06-08T16:40:04.692918Z",
     "start_time": "2025-06-08T16:40:04.679979Z"
    }
   },
   "source": [
    "# Print the ranking\n",
    "ranking = championship.ranking()\n",
    "winner = ranking[0]\n",
    "\n",
    "for i in range(len(championship.ranking())):\n",
    "    print(f\"{i + 1}. Place: Competitor: {championship.ranking()[i].competitor.name} with Elo: {championship.ranking()[i].elo}\")\n"
   ],
   "outputs": [
    {
     "name": "stdout",
     "output_type": "stream",
     "text": [
      "1. Place: Competitor: BlackSwan with Elo: 1249.694063704448\n",
      "2. Place: Competitor: Template with Elo: 1150.305936295552\n"
     ]
    }
   ],
   "execution_count": 8
  },
  {
   "metadata": {
    "ExecuteTime": {
     "end_time": "2025-06-08T16:36:35.312397Z",
     "start_time": "2025-06-08T16:36:35.298678Z"
    }
   },
   "cell_type": "code",
   "source": "",
   "outputs": [],
   "execution_count": null
  }
 ],
 "metadata": {
  "kernelspec": {
   "display_name": "venv",
   "language": "python",
   "name": "python3"
  },
  "language_info": {
   "codemirror_mode": {
    "name": "ipython",
    "version": 3
   },
   "file_extension": ".py",
   "mimetype": "text/x-python",
   "name": "python",
   "nbconvert_exporter": "python",
   "pygments_lexer": "ipython3",
   "version": "3.13.1"
  }
 },
 "nbformat": 4,
 "nbformat_minor": 2
}
